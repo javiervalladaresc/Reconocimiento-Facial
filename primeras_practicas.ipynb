{
 "cells": [
  {
   "cell_type": "markdown",
   "metadata": {},
   "source": [
    "# Tarea semana 01:\n"
   ]
  },
  {
   "cell_type": "markdown",
   "metadata": {},
   "source": [
    "## Ambientes virtuales en python"
   ]
  },
  {
   "cell_type": "markdown",
   "metadata": {},
   "source": [
    "Para instalar un ambiente virtual en python, en primer lugar hay que instalar pip (una herramienta que se utiliza para descargar paquetes del repositorio Pypi) con el comando python3 -m pip install --user --upgrade pip, luego se sigue con la instalación de virtualenv (permite la gestión y la creación de entornos virtuales) con el comando python3 -m pip install --user virtualenv. Después de haber instaldo ambas herramientas ya se pueden crear ambientes virtuales con el comando python3 -m venv env, donde env es el nombre que se le quiere dar al ambiente virtual. "
   ]
  },
  {
   "cell_type": "markdown",
   "metadata": {},
   "source": [
    "## Manejo de proyecto en github"
   ]
  },
  {
   "cell_type": "markdown",
   "metadata": {},
   "source": [
    "Para el manejo de un proyecto en github se necesita instalar git, luego se utilizaran los siguientes comandos:"
   ]
  },
  {
   "cell_type": "markdown",
   "metadata": {},
   "source": [
    "- git init\n",
    "- git status -s\n",
    "- git commit -m \"comentario\"\n",
    "- git add . \n",
    "- git push \n",
    "- git remote add origin pagina"
   ]
  },
  {
   "cell_type": "markdown",
   "metadata": {},
   "source": [
    "Con el comando git init se inicia un repositorio local el cual irá guardando todos los cambios que se realicen al proyecto, luego tenemos git status -s, este comando nos indicará que cambios han sido guardados en el repositorio y los que no lo hayan sido se agregan con el comando git add ., ya que este comando agrega al repositorio temporal todos los cambios, para finalmente con el comando git commit -m agregar los cambios al repositorio local además de un breve comentario que describa el cambio que se hizo. Para github tenemos los comandos git remote add origin pagina, el cual indica donde se guardara el repositorio en la nube, y el comando git push que llevará todos los cambios realizados en el repositorio local al nuevo repositorio de la nube."
   ]
  },
  {
   "cell_type": "markdown",
   "metadata": {},
   "source": [
    "## Librerias"
   ]
  },
  {
   "cell_type": "markdown",
   "metadata": {},
   "source": [
    "### Numpy"
   ]
  },
  {
   "cell_type": "markdown",
   "metadata": {},
   "source": [
    "La librería NumPy nos da una nueva estructura para almacenar datos como lo son las matrices, además de proporcionar operaciones matemáticas basicas para esta nueva estructura, como se puede ver en el siguiente ejemplo:"
   ]
  },
  {
   "cell_type": "code",
   "execution_count": 25,
   "metadata": {},
   "outputs": [],
   "source": [
    "import numpy as np"
   ]
  },
  {
   "cell_type": "code",
   "execution_count": 3,
   "metadata": {},
   "outputs": [
    {
     "name": "stdout",
     "output_type": "stream",
     "text": [
      "Matriz A:\n",
      "[[1 2 3]\n",
      " [3 4 5]\n",
      " [5 6 7]]\n",
      "\n",
      " A al cuadrado:\n",
      "[[22 28 34]\n",
      " [40 52 64]\n",
      " [58 76 94]]\n"
     ]
    }
   ],
   "source": [
    "#Crea matriz A de 3x3\n",
    "A = np.array( [[1, 2, 3], [3, 4, 5], [5, 6, 7]] )\n",
    "\n",
    "#Imprime por pantalla la matriz A\n",
    "print (\"Matriz A:\")\n",
    "print (A)\n",
    "\n",
    "#Eleva al cuadrado la matriz A\n",
    "print (\"\\n A al cuadrado:\")\n",
    "print (np.dot(A,A))\n",
    "\n"
   ]
  },
  {
   "cell_type": "markdown",
   "metadata": {},
   "source": [
    "## Pandas"
   ]
  },
  {
   "cell_type": "markdown",
   "metadata": {},
   "source": [
    "La librería panda nos entrega estructuras flexibles y expresivas para trabajar con datos etiquetados, como lo son las series, además de proporcionar operaciones y herramientas para el manejo de estos datos como tambien nos aporta un manejo sencillo de las fechas, todo lo anterior se puede ver en el siguiente ejemplo:"
   ]
  },
  {
   "cell_type": "code",
   "execution_count": 26,
   "metadata": {},
   "outputs": [],
   "source": [
    "import pandas as pd"
   ]
  },
  {
   "cell_type": "code",
   "execution_count": 22,
   "metadata": {},
   "outputs": [
    {
     "name": "stdout",
     "output_type": "stream",
     "text": [
      "Serie: \n",
      "a    0\n",
      "b    1\n",
      "c    2\n",
      "d    3\n",
      "e    4\n",
      "f    5\n",
      "g    6\n",
      "h    7\n",
      "i    8\n",
      "j    9\n",
      "dtype: int64\n",
      "\n",
      "Máximo:\n",
      "9\n",
      "su índice es: \n",
      "j    9\n",
      "dtype: int64\n",
      "\n",
      "Serie de fechas:\n",
      "DatetimeIndex(['2019-10-01', '2019-10-02', '2019-10-03', '2019-10-04',\n",
      "               '2019-10-05', '2019-10-06', '2019-10-07', '2019-10-08',\n",
      "               '2019-10-09', '2019-10-10', '2019-10-11', '2019-10-12',\n",
      "               '2019-10-13', '2019-10-14', '2019-10-15', '2019-10-16',\n",
      "               '2019-10-17', '2019-10-18', '2019-10-19', '2019-10-20',\n",
      "               '2019-10-21', '2019-10-22', '2019-10-23', '2019-10-24',\n",
      "               '2019-10-25', '2019-10-26', '2019-10-27', '2019-10-28',\n",
      "               '2019-10-29', '2019-10-30', '2019-10-31'],\n",
      "              dtype='datetime64[ns]', freq='D')\n"
     ]
    }
   ],
   "source": [
    "#Creamos una serie de datos\n",
    "serie_ejemplo = pd.Series(range(10), index = list('abcdefghij'))\n",
    "\n",
    "#Imprime la serie por pantalla\n",
    "print(\"Serie: \")\n",
    "print(serie_ejemplo)\n",
    "\n",
    "#Máximo de la serie \n",
    "print(\"\\nMáximo:\")\n",
    "print(serie_ejemplo.max())\n",
    "print(\"su índice es: \")\n",
    "print(serie_ejemplo[serie_ejemplo == max(serie_ejemplo)])\n",
    "\n",
    "#Creamos serie de fechas\n",
    "fechas_ejemplo = pd.date_range(start = '10/1/2019', end = '10/31/2019' , freq = 'D')\n",
    "\n",
    "#Imprimimos por pantalla la serie de fechas\n",
    "print(\"\\nSerie de fechas:\")\n",
    "print(fechas_ejemplo)\n"
   ]
  },
  {
   "cell_type": "markdown",
   "metadata": {},
   "source": [
    "## Matplotlib"
   ]
  },
  {
   "cell_type": "markdown",
   "metadata": {},
   "source": [
    "La librería matplotlib nos entrega herramientas para graficar datos, son funciones similares a las que utiliza matlab, con las cuales se pueden crear figuras, trazar líneas y se pueden etiquetar ejes, como se puede ver en los siguientes ejemplos:"
   ]
  },
  {
   "cell_type": "code",
   "execution_count": 27,
   "metadata": {},
   "outputs": [],
   "source": [
    "#Importamos las librerías\n",
    "import os\n",
    "import numpy as np\n",
    "import pandas as pd\n",
    "import matplotlib.pyplot as plt"
   ]
  },
  {
   "cell_type": "code",
   "execution_count": 49,
   "metadata": {},
   "outputs": [
    {
     "data": {
      "image/png": "[encoded data removed]",
      "text/plain": [
       "<Figure size 576x576 with 1 Axes>"
      ]
     },
     "metadata": {
      "needs_background": "light"
     },
     "output_type": "display_data"
    }
   ],
   "source": [
    "#Creamos los datos a graficar\n",
    "\n",
    "#vector de 0 - 10\n",
    "x = np.linspace(0,10,50)\n",
    "\n",
    "#Eleva los elementos de x al cuadrado\n",
    "y1 = x**2 \n",
    "\n",
    "#Eleva los elementos de x a 3\n",
    "y2 = x**3\n",
    "\n",
    "plt.figure(figsize=(8,8)) #Tamaño de la venta del grafico\n",
    "\n",
    "#Graficamos y1 = x**2 con una línea segmentada\n",
    "plt.plot(x, y1,'bs', label='y1')\n",
    "\n",
    "#Graficamos y2 = x**3 con puntos cuadrados\n",
    "plt.plot(x, y2,'r--', label='y2')\n",
    "\n",
    "plt.xlabel('Eje x') #Nombre eje x\n",
    "plt.ylabel('Eje y') #Nombre eje y\n",
    "\n",
    "plt.legend() #Agregar legends\n",
    "\n",
    "plt.title(\"Gráfico simple\") #Título del grafico \n",
    "\n",
    "plt.show() #Mostar grafico"
   ]
  },
  {
   "cell_type": "code",
   "execution_count": null,
   "metadata": {},
   "outputs": [],
   "source": []
  }
 ],
 "metadata": {
  "kernelspec": {
   "display_name": "Python 3",
   "language": "python",
   "name": "python3"
  },
  "language_info": {
   "codemirror_mode": {
    "name": "ipython",
    "version": 3
   },
   "file_extension": ".py",
   "mimetype": "text/x-python",
   "name": "python",
   "nbconvert_exporter": "python",
   "pygments_lexer": "ipython3",
   "version": "3.7.3"
  }
 },
 "nbformat": 4,
 "nbformat_minor": 2
}
