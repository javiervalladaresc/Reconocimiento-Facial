{
 "cells": [
  {
   "cell_type": "markdown",
   "metadata": {},
   "source": [
    "# Tarea semana 01:\n"
   ]
  },
  {
   "cell_type": "markdown",
   "metadata": {},
   "source": [
    "## Ambientes virtuales en python"
   ]
  },
  {
   "cell_type": "markdown",
   "metadata": {},
   "source": [
    "Para instalar un ambiente virtual en python, en primer lugar hay que instalar pip (una herramienta que se utiliza para descargar paquetes del repositorio Pypi) con el comando python3 -m pip install --user --upgrade pip, luego se sigue con la instalación de virtualenv (permite la gestión y la creación de entornos virtuales) con el comando python3 -m pip install --user virtualenv. Después de haber instaldo ambas herramientas ya se pueden crear ambientes virtuales con el comando python3 -m venv env, donde env es el nombre que se le quiere dar al ambiente virtual. "
   ]
  },
  {
   "cell_type": "markdown",
   "metadata": {},
   "source": [
    "## Manejo de proyecto en github"
   ]
  },
  {
   "cell_type": "markdown",
   "metadata": {},
   "source": [
    "Para el manejo de un proyecto en github se necesitan los siguientes comandos:"
   ]
  },
  {
   "cell_type": "markdown",
   "metadata": {},
   "source": [
    "- git init\n",
    "- git status -s\n",
    "- git commit -m \"comentario\"\n",
    "- git add . \n",
    "- git push \n",
    "- git git remote add origin pagina"
   ]
  },
  {
   "cell_type": "markdown",
   "metadata": {},
   "source": []
  }
 ],
 "metadata": {
  "kernelspec": {
   "display_name": "Python 3",
   "language": "python",
   "name": "python3"
  },
  "language_info": {
   "codemirror_mode": {
    "name": "ipython",
    "version": 3
   },
   "file_extension": ".py",
   "mimetype": "text/x-python",
   "name": "python",
   "nbconvert_exporter": "python",
   "pygments_lexer": "ipython3",
   "version": "3.7.3"
  }
 },
 "nbformat": 4,
 "nbformat_minor": 2
}
